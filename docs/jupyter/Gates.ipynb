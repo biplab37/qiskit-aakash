{
 "cells": [
  {
   "cell_type": "markdown",
   "metadata": {},
   "source": [
    "# Gates\n",
    "---"
   ]
  },
  {
   "cell_type": "markdown",
   "metadata": {},
   "source": [
    "Gates are similar to the logic gates for bits. Because of the linearity it is enough to know the action of the gate on the basis elements, for one qubit $|0\\rangle$ and $|1\\rangle$. For example a not gate takes $|0\\rangle$ to $|1\\rangle$ and vice versa. To get the visual picture in Bloch sphere, the arrow goes to the antipodal point after acted upon by a not (X) gate. For a general gate acting on one qubit implies a rotation of the arrow around the sphere. Different gate encodes different rotations."
   ]
  },
  {
   "cell_type": "markdown",
   "metadata": {},
   "source": [
    "## Matrix Represantation"
   ]
  },
  {
   "cell_type": "markdown",
   "metadata": {},
   "source": [
    "Now coming back to the example of the not gate. For a general qubit state the gate have the following action"
   ]
  },
  {
   "cell_type": "markdown",
   "metadata": {},
   "source": [
    "$$ X(a|0\\rangle + b|1\\rangle) = a X|0\\rangle + b X|1\\rangle = b|1\\rangle + a|0\\rangle $$\n",
    "$$ X\\pmatrix{a\\\\ b} = \\pmatrix{b \\\\ a} = \\pmatrix{0&1\\\\ 1&0}\\pmatrix{a \\\\ b} $$"
   ]
  },
  {
   "cell_type": "markdown",
   "metadata": {},
   "source": [
    "This way we can write the gate as a matrix acting on the state. Below some example are given for different common gates"
   ]
  },
  {
   "cell_type": "markdown",
   "metadata": {},
   "source": [
    "- **Hadamard Matrix** $H = \\pmatrix{1&-1\\\\ -1&1}$\n",
    "- **Pauli Matrices**\n",
    "    + $X = \\pmatrix{0&1\\\\ 1&0} $\n",
    "    + $Y = \\pmatrix{0&-i\\\\ i&0} $\n",
    "    + $Z = \\pmatrix{1&0\\\\ 0&-1} $\n",
    "- **Rotation Matrix**\n",
    "    + $U_1() = \\pmatrix{} $"
   ]
  },
  {
   "cell_type": "markdown",
   "metadata": {},
   "source": [
    "## Multi-Qubit Gates"
   ]
  },
  {
   "cell_type": "code",
   "execution_count": null,
   "metadata": {},
   "outputs": [],
   "source": []
  }
 ],
 "metadata": {
  "kernelspec": {
   "display_name": "Python 3",
   "language": "python",
   "name": "python3"
  },
  "language_info": {
   "codemirror_mode": {
    "name": "ipython",
    "version": 3
   },
   "file_extension": ".py",
   "mimetype": "text/x-python",
   "name": "python",
   "nbconvert_exporter": "python",
   "pygments_lexer": "ipython3",
   "version": "3.7.4"
  }
 },
 "nbformat": 4,
 "nbformat_minor": 4
}