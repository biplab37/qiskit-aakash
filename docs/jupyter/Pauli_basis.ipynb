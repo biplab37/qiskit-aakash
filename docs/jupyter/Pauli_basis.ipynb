{
 "cells": [
  {
   "cell_type": "markdown",
   "metadata": {},
   "source": [
    "# Pauli Basis\n",
    "---"
   ]
  },
  {
   "cell_type": "markdown",
   "metadata": {},
   "source": [
    "This section describes a suitable basis to represent density matrices. All the calculations in the dm_simulator is performed in this basis."
   ]
  },
  {
   "cell_type": "markdown",
   "metadata": {},
   "source": [
    "### Pauli Matrices\n",
    "Pauli matrices are are a set of three $2\\times 2$ complex Hermitian and unitary matrices. They are denoted by $\\sigma$."
   ]
  },
  {
   "cell_type": "markdown",
   "metadata": {},
   "source": [
    "$$\n",
    "    \\sigma_1 = \\pmatrix{0&1\\\\1&0}\\hspace{10pt} \\sigma_2 = \\pmatrix{0&-i\\\\i&0}\\hspace{10pt} \\sigma_3 = \\pmatrix{1&0\\\\0&-1}\n",
    "$$"
   ]
  },
  {
   "cell_type": "markdown",
   "metadata": {},
   "source": [
    "Apart form being Hermitian and Unitary these matrices follows the following identities"
   ]
  },
  {
   "cell_type": "markdown",
   "metadata": {},
   "source": [
    "$$\n",
    "    \\sigma_i^2 = I \\\\\n",
    "    [\\sigma_a,\\sigma_b] = 2i\\epsilon_{abc}\\sigma_c\\\\\n",
    "    {\\sigma_a,\\sigma_b} = 2\\delta_{ab}I\n",
    "$$"
   ]
  },
  {
   "cell_type": "markdown",
   "metadata": {},
   "source": [
    "These matrices with the $2\\times 2$ identity matrix constitutes the Pauli basis. Any $2\\times 2$ complex matrices can be decomposed into linear combination of Pauli matrices and identity. Moreover, for Hermitian matrix the coefficients turns out to be real. i.e."
   ]
  },
  {
   "cell_type": "markdown",
   "metadata": {},
   "source": [
    "$$\n",
    " \\forall H \\in M_2(\\mathbb{C}) \\text{ and } H^{\\dagger} = H \\\\ \\exists c_i\\in \\mathbb{R} \\mid H = \\sum_{i=0}^{3} c_i \\sigma_i\n",
    "$$"
   ]
  }
 ],
 "metadata": {
  "kernelspec": {
   "display_name": "Python 3",
   "language": "python",
   "name": "python3"
  },
  "language_info": {
   "codemirror_mode": {
    "name": "ipython",
    "version": 3
   },
   "file_extension": ".py",
   "mimetype": "text/x-python",
   "name": "python",
   "nbconvert_exporter": "python",
   "pygments_lexer": "ipython3",
   "version": "3.7.4"
  }
 },
 "nbformat": 4,
 "nbformat_minor": 4
}