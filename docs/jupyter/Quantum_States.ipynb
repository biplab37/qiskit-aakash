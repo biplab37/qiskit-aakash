{
 "cells": [
  {
   "cell_type": "markdown",
   "metadata": {},
   "source": [
    "# Quantum Mechanics Basics\n",
    "******"
   ]
  },
  {
   "cell_type": "markdown",
   "metadata": {},
   "source": [
    "Quantum Mechanics can be understood using the following basic axioms\n",
    "1. Each state is represented by a ray in Complex Hilbert Space.\n",
    "2. Physical Observables are represented by Hermitian Operator on the Hilbert Space.\n",
    "3. The dynamics of the states are dictated by so called Schrodinger equation."
   ]
  },
  {
   "cell_type": "markdown",
   "metadata": {},
   "source": [
    "## Axiom 1\n",
    "***\n",
    "### State\n",
    "A state is a full description of the constituent of a system of interest. For example, in classical mechanics, if we want to describe N point particles we would take positions and momenta of all the particles at some instance to be the state of the system. i.e. if we say that the system of N particles is in a particular state we mean that 1st particle is in $\\mathbf{r_1}$ position with $\\mathbf{p_1}$ momentum and so on. The positions and momenta are called the degrees of freedom for the system.\n",
    "### Configuration Space\n",
    "Configuration space is the space whose each point corrospond to a particular state. For instance, for the above mentioned N particle system the configuration space would be an $\\mathbb{R}^{3n+3n}$. where we have 3n position coordinates and 3n momenta coordinates. For a concrete example in a one dimensional system with one particle our configuration space co-insides with the plane. Each point in the plane corrosponds to a specific state of the system.\n",
    "### Quantum State and Hilbert Space\n",
    "Similar to classical system, In quantum case the configuration space becomes the Hilbert Space, a complex vector space. But unlike classical case different points in the Hilbert Space does not represent different states. Rather all the points in a straight line starting from the origin represent the same state. So it is convinient to think that the states are normalised such that there distance from origin is unity. These states are denoted by the symbol $|\\psi\\rangle $.Note that the dimension of the Hilber space will be the number of independent quantum states. So for example in a qubit there are two independent state $|0\\rangle$ and $|1\\rangle$. Hence the Hilbert space is a two dimensional complex vector space."
   ]
  },
  {
   "cell_type": "markdown",
   "metadata": {},
   "source": [
    "## Axiom 2\n",
    "***\n",
    "### Observables\n",
    "Observables are the physical properties of the system that we can observe/measure. In classical mechanics these typically are some function of the position and momenta of the constituent particles. For example, pressure, electrical properties like current etc.\n",
    "\n",
    "### Quantum Observables\n",
    "\n",
    "### Operators\n",
    "\n",
    "### Hermitian Operator"
   ]
  },
  {
   "cell_type": "markdown",
   "metadata": {},
   "source": [
    "## Axiom 3\n",
    "***\n",
    "### Dynamics of a state\n",
    "\n",
    "### Schrodinger Equation"
   ]
  }
 ],
 "metadata": {
  "kernelspec": {
   "display_name": "Python 3",
   "language": "python",
   "name": "python3"
  },
  "language_info": {
   "codemirror_mode": {
    "name": "ipython",
    "version": 3
   },
   "file_extension": ".py",
   "mimetype": "text/x-python",
   "name": "python",
   "nbconvert_exporter": "python",
   "pygments_lexer": "ipython3",
   "version": "3.7.4"
  }
 },
 "nbformat": 4,
 "nbformat_minor": 4
}
