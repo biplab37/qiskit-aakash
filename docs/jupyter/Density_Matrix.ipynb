{
 "cells": [
  {
   "cell_type": "markdown",
   "metadata": {},
   "source": [
    "# Density Matrix Formalism\n",
    "***"
   ]
  },
  {
   "cell_type": "markdown",
   "metadata": {},
   "source": [
    "Given a particular initial quantum state, the dynamics of the state is completely known through Schrodinger's equation apart from the inavoidable probabilistic nature in the measurement process. Although one rarely has the information about exact initial quantum state (more technically the state is not in a pure state). In those cases it is effective to think about ensemble of states. In this kind of ensemble one associates probabilities($p_{\\alpha}\\ge 0$) to each of the quantum states. One then defines an object called the density matrix of the system given by"
   ]
  },
  {
   "cell_type": "markdown",
   "metadata": {},
   "source": [
    "$$\n",
    "    \\rho = \\sum_{\\alpha} p_{\\alpha}|\\alpha\\rangle \\langle\\alpha| \\\\\n",
    "    \\sum_{\\alpha}p_{\\alpha} = 1\n",
    "$$"
   ]
  },
  {
   "cell_type": "markdown",
   "metadata": {},
   "source": [
    "where $\\alpha$ is labelling the states. The case where the knowledge about the initial state is known we have so called pure state defined by one of the $p_{\\alpha}$ being unity.\n",
    "\n",
    "### Examples\n",
    "\n",
    "### Properties of Density Matrix"
   ]
  }
 ],
 "metadata": {
  "kernelspec": {
   "display_name": "Python 3",
   "language": "python",
   "name": "python3"
  },
  "language_info": {
   "codemirror_mode": {
    "name": "ipython",
    "version": 3
   },
   "file_extension": ".py",
   "mimetype": "text/x-python",
   "name": "python",
   "nbconvert_exporter": "python",
   "pygments_lexer": "ipython3",
   "version": "3.7.4"
  }
 },
 "nbformat": 4,
 "nbformat_minor": 4
}
